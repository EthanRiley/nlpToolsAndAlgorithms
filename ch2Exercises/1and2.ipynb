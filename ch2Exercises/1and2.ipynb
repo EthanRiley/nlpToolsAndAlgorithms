{
 "cells": [
  {
   "cell_type": "code",
   "execution_count": null,
   "metadata": {},
   "outputs": [],
   "source": []
  },
  {
   "cell_type": "markdown",
   "metadata": {},
   "source": [
    "# 2.1\n",
    "## 2.1.1\n",
    "/[a-zA-z]*/\n",
    "## 2.1.2\n",
    "/[a-z]*b/\n",
    "## 2.1.3\n",
    "/(b+(ab+)*)/\n"
   ]
  },
  {
   "cell_type": "code",
   "execution_count": null,
   "metadata": {},
   "outputs": [
    {
     "ename": "",
     "evalue": "",
     "output_type": "error",
     "traceback": [
      "\u001b[1;31mRunning cells with 'Python 3.10.2 ('env': venv)' requires ipykernel package.\n",
      "Run the following command to install 'ipykernel' into the Python environment. \n",
      "Command: 'c:/Users/gilwo/Documents/NLP/env/Scripts/python.exe -m pip install ipykernel -U --force-reinstall'"
     ]
    }
   ],
   "source": [
    "'''\n",
    "# 2.2\n",
    "## 2.2.1\n",
    "/([a-zA-Z]*)_\\1/\n",
    "## 2.2.2\n",
    "/[0-9]*(.*)[a-zA-Z]*/\n",
    "## 2.2.3\n",
    "/(.*)[grotto_|raven_](.*)/\n",
    "## 2.2.4\n",
    "/(.*)_(.*)/\n",
    "'''"
   ]
  },
  {
   "cell_type": "markdown",
   "metadata": {},
   "source": [
    "# 2.2\n",
    "## 2.2.1\n",
    "/([a-zA-Z]*)_\\1/\n",
    "## 2.2.2\n",
    "/[0-9]*(.*)[a-zA-Z]*/\n",
    "## 2.2.3\n",
    "/(.*)[grotto_|raven_](.*)/\n",
    "## 2.2.4\n",
    "/(.*)_(.*)/"
   ]
  },
  {
   "cell_type": "markdown",
   "metadata": {},
   "source": []
  }
 ],
 "metadata": {
  "interpreter": {
   "hash": "53032d86eef98820c849d39b02aa2d82fbc03e5a9d1e2faca261d60f033a3545"
  },
  "kernelspec": {
   "display_name": "Python 3.10.2 ('env': venv)",
   "language": "python",
   "name": "python3"
  },
  "language_info": {
   "name": "python",
   "version": "3.10.2"
  },
  "orig_nbformat": 4
 },
 "nbformat": 4,
 "nbformat_minor": 2
}
